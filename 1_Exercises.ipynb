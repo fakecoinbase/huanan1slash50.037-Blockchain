{
  "nbformat": 4,
  "nbformat_minor": 0,
  "metadata": {
    "colab": {
      "name": "1_Exercises.ipynb",
      "provenance": [],
      "collapsed_sections": [],
      "authorship_tag": "ABX9TyOmr/ywz56NBtFXgy6xiyoG",
      "include_colab_link": true
    },
    "kernelspec": {
      "name": "python3",
      "display_name": "Python 3"
    }
  },
  "cells": [
    {
      "cell_type": "markdown",
      "metadata": {
        "id": "view-in-github",
        "colab_type": "text"
      },
      "source": [
        "<a href=\"https://colab.research.google.com/github/huanan1/50.037-Blockchain/blob/master/1_Exercises.ipynb\" target=\"_parent\"><img src=\"https://colab.research.google.com/assets/colab-badge.svg\" alt=\"Open In Colab\"/></a>"
      ]
    },
    {
      "cell_type": "code",
      "metadata": {
        "id": "PyKb1sGGIAYL",
        "colab_type": "code",
        "outputId": "3d4ce4fb-6b9c-4f5a-dd5e-7c8b5b25325c",
        "colab": {
          "base_uri": "https://localhost:8080/",
          "height": 123
        }
      },
      "source": [
        "from google.colab import drive\n",
        "drive.mount('/content/drive/')"
      ],
      "execution_count": 0,
      "outputs": [
        {
          "output_type": "stream",
          "text": [
            "Go to this URL in a browser: https://accounts.google.com/o/oauth2/auth?client_id=947318989803-6bn6qk8qdgf4n4g3pfee6491hc0brc4i.apps.googleusercontent.com&redirect_uri=urn%3aietf%3awg%3aoauth%3a2.0%3aoob&response_type=code&scope=email%20https%3a%2f%2fwww.googleapis.com%2fauth%2fdocs.test%20https%3a%2f%2fwww.googleapis.com%2fauth%2fdrive%20https%3a%2f%2fwww.googleapis.com%2fauth%2fdrive.photos.readonly%20https%3a%2f%2fwww.googleapis.com%2fauth%2fpeopleapi.readonly\n",
            "\n",
            "Enter your authorization code:\n",
            "··········\n",
            "Mounted at /content/drive/\n"
          ],
          "name": "stdout"
        }
      ]
    },
    {
      "cell_type": "code",
      "metadata": {
        "id": "9KnKdHDggf1u",
        "colab_type": "code",
        "outputId": "a15262b2-2b94-4e4e-d9d0-2efa58b196d4",
        "colab": {
          "base_uri": "https://localhost:8080/",
          "height": 34
        }
      },
      "source": [
        "%cd drive/My\\ Drive/SUTD/Term\\ 7/50.037\\ Blockchain"
      ],
      "execution_count": 0,
      "outputs": [
        {
          "output_type": "stream",
          "text": [
            "/content/drive/My Drive/SUTD/Term 7/50.037 Blockchain\n"
          ],
          "name": "stdout"
        }
      ]
    },
    {
      "cell_type": "code",
      "metadata": {
        "id": "ZWx3llEDIeTU",
        "colab_type": "code",
        "outputId": "39d06902-ec9d-4ec7-a0c7-dbe75ca2df3a",
        "colab": {
          "base_uri": "https://localhost:8080/",
          "height": 103
        }
      },
      "source": [
        "#pip install -r requirements.txt\n",
        "# used this to carry on installing the rest even if one fails\n",
        "cat requirements.txt | grep \"ecdsa\" | xargs -n 1 pip install"
      ],
      "execution_count": 0,
      "outputs": [
        {
          "output_type": "stream",
          "text": [
            "Collecting ecdsa==0.13\n",
            "\u001b[?25l  Downloading https://files.pythonhosted.org/packages/63/f4/73669d51825516ce8c43b816c0a6b64cd6eb71d08b99820c00792cb42222/ecdsa-0.13-py2.py3-none-any.whl (86kB)\n",
            "\r\u001b[K     |███▊                            | 10kB 16.3MB/s eta 0:00:01\r\u001b[K     |███████▌                        | 20kB 1.8MB/s eta 0:00:01\r\u001b[K     |███████████▎                    | 30kB 2.2MB/s eta 0:00:01\r\u001b[K     |███████████████                 | 40kB 1.7MB/s eta 0:00:01\r\u001b[K     |██████████████████▉             | 51kB 2.0MB/s eta 0:00:01\r\u001b[K     |██████████████████████▋         | 61kB 2.3MB/s eta 0:00:01\r\u001b[K     |██████████████████████████▍     | 71kB 2.5MB/s eta 0:00:01\r\u001b[K     |██████████████████████████████▏ | 81kB 2.8MB/s eta 0:00:01\r\u001b[K     |████████████████████████████████| 92kB 2.6MB/s \n",
            "\u001b[?25hInstalling collected packages: ecdsa\n",
            "Successfully installed ecdsa-0.13\n"
          ],
          "name": "stdout"
        }
      ]
    },
    {
      "cell_type": "code",
      "metadata": {
        "id": "lVBfk8pVKg-B",
        "colab_type": "code",
        "colab": {}
      },
      "source": [
        "# show all print statements and not just the last one\n",
        "from IPython.core.interactiveshell import InteractiveShell\n",
        "InteractiveShell.ast_node_interactivity = \"all\""
      ],
      "execution_count": 0,
      "outputs": []
    },
    {
      "cell_type": "markdown",
      "metadata": {
        "id": "6nGZWZtZI6c0",
        "colab_type": "text"
      },
      "source": [
        "**Question 1**\n",
        "Get the hash value of \"Blockchain Technology\" using SHA2-256, SHA2-512, SHA3-256, and SHA3-512.\n",
        "\n",
        "Note: throughout the rest of this course use SHA2-256 as the default hash function."
      ]
    },
    {
      "cell_type": "code",
      "metadata": {
        "id": "8KejfygLI-Ng",
        "colab_type": "code",
        "outputId": "6360db6f-16bc-4c8a-86eb-cefae26541bc",
        "colab": {
          "base_uri": "https://localhost:8080/",
          "height": 157
        }
      },
      "source": [
        "import hashlib\n",
        "m = hashlib.sha256() # 32 bytes\n",
        "m.update(b\"Blockchain Technology\") #b stands for byte object\n",
        "m.digest() # outputs in bytes\n",
        "print()\n",
        "#print(m.digest_size)\n",
        "\n",
        "m2 = hashlib.sha512() # 64 bytes\n",
        "m2.update(b\"Blockchain Technology\")\n",
        "m2.digest()\n",
        "print()\n",
        "#print(m2.digest_size)\n",
        "\n",
        "\n",
        "m3 = hashlib.sha3_256()\n",
        "m3.update(b\"Blockchain Technology\")\n",
        "m3.digest()\n",
        "print()\n",
        "\n",
        "m4 = hashlib.sha3_512()\n",
        "m4.update(b\"Blockchain Technology\")\n",
        "m4.digest()"
      ],
      "execution_count": 0,
      "outputs": [
        {
          "output_type": "execute_result",
          "data": {
            "text/plain": [
              "b'\\xad\\x95\\xc5\\xad\\xfa\\x83\\x05\\x19\\x81g6\\x89]\\x1f\\xe2\\xff\\x9b\\xeaH\\xff\\xd7\\x89J\\x87x\\x10\\xd2(\\xdaYb%'"
            ]
          },
          "metadata": {
            "tags": []
          },
          "execution_count": 25
        },
        {
          "output_type": "stream",
          "text": [
            "\n"
          ],
          "name": "stdout"
        },
        {
          "output_type": "execute_result",
          "data": {
            "text/plain": [
              "b\"\\xb2\\x1b\\x9e\\x93\\xf1O\\x98\\x0f\\x00\\xdd=NE\\x00\\x0cz\\xd6\\xeeA\\xbeE\\x0f\\x96\\x8e61\\x9f\\xd5'\\x05>\\xef)N\\xa91\\x1d\\x8dMfG\\xd1\\xf1z\\x1c\\xef3\\x88&\\xb5\\xcc\\xcb\\x93\\xf40\\x98e|ei\\xf9\\xb2\\xc5K\""
            ]
          },
          "metadata": {
            "tags": []
          },
          "execution_count": 25
        },
        {
          "output_type": "stream",
          "text": [
            "\n"
          ],
          "name": "stdout"
        },
        {
          "output_type": "execute_result",
          "data": {
            "text/plain": [
              "b'\\x9a\\xa8\\\\wxTwE\\x139\\xda\\xec\\t\\xce\\x1d<\\xb6\\xd0\\xa9\\x06\\xfe\\x8d\\x06\\xd5\\xfb\\x1dbr{}d\\x15'"
            ]
          },
          "metadata": {
            "tags": []
          },
          "execution_count": 25
        },
        {
          "output_type": "stream",
          "text": [
            "\n"
          ],
          "name": "stdout"
        },
        {
          "output_type": "execute_result",
          "data": {
            "text/plain": [
              "b'\\x8dmu>\\x03\\xf4\\xf0\\xef\\xa94\\x89\\xc8\\x90\\x94\\x1d\\xe7\\x0c|\\xde\\xbd\\xc2\\x876)\\x0bm\\xc1\\xad)\\xeb\\x17uH\\xb0\\xf5\\x01+\\xa4\\x0b\\xd2\\x1c\\x9d7\\xa9bnm\\xff9\\xfd-UfJ\\x98\\xe3\\xec)1\\xa4\\xea\\xc5)q'"
            ]
          },
          "metadata": {
            "tags": []
          },
          "execution_count": 25
        }
      ]
    },
    {
      "cell_type": "markdown",
      "metadata": {
        "id": "buiquB_oLFwR",
        "colab_type": "text"
      },
      "source": [
        "**Question 2**\n",
        "\n",
        "Let us define a hash function H(n, msg) that computes SHA2-512 over msg and outputs the first n bytes of the hash.\n",
        "\n",
        "Find a collision of H(1, msg), H(2, msg), H(3, msg), H(4, msg), and H(5, msg). Measure how long it takes to find a collision.\n"
      ]
    },
    {
      "cell_type": "code",
      "metadata": {
        "id": "8CI8SsGmLHYv",
        "colab_type": "code",
        "outputId": "063fbfb6-c192-46c1-ecfd-4d7e84f99574",
        "colab": {
          "base_uri": "https://localhost:8080/",
          "height": 103
        }
      },
      "source": [
        "def H(n,msg):\n",
        "  m = hashlib.sha512()\n",
        "  m.update(msg.encode())\n",
        "  return m.digest()[:n]\n",
        "\n",
        "\n",
        "import random\n",
        "import string\n",
        "\n",
        "def find_collision(n):\n",
        "  hashes = {}\n",
        "  collision = False\n",
        "\n",
        "  while not collision:\n",
        "    letters = string.printable\n",
        "    random_msg = (''.join(random.choice(letters) for i in range(100)))\n",
        "    output = H(n,random_msg)\n",
        "    if output in hashes:\n",
        "      collision = True\n",
        "      return random_msg\n",
        "    else:\n",
        "      hashes[output]= 1\n",
        "  \n",
        "if __name__ == '__main__':\n",
        "  import timeit\n",
        "  print(timeit.timeit(\"find_collision(1)\",setup=\"from __main__ import find_collision\", number=1))\n",
        "  print(timeit.timeit(\"find_collision(2)\",setup=\"from __main__ import find_collision\", number=1))\n",
        "  print(timeit.timeit(\"find_collision(3)\",setup=\"from __main__ import find_collision\", number=1))\n",
        "  print(timeit.timeit(\"find_collision(4)\",setup=\"from __main__ import find_collision\", number=1))\n",
        "  print(timeit.timeit(\"find_collision(5)\",setup=\"from __main__ import find_collision\", number=1))"
      ],
      "execution_count": 0,
      "outputs": [
        {
          "output_type": "stream",
          "text": [
            "0.000617479999959869\n",
            "0.021394701000076566\n",
            "0.574634102999994\n",
            "4.248319616999993\n",
            "127.087510082\n"
          ],
          "name": "stdout"
        }
      ]
    },
    {
      "cell_type": "markdown",
      "metadata": {
        "id": "jEeTyRvTS20f",
        "colab_type": "text"
      },
      "source": [
        "For H(1, msg), H(2, msg), H(3, msg), H(4, msg) and H(5, msg) find a preimage of the corresponding hashes: b\"\\x00\", b\"\\x00\"\\*2, b\"\\x00\"\\*3, b\"\\x00\"\\*4, \n",
        "and b\"\\x00\"*5. Measure how long it takes to find a preimage.\n",
        "Compare times of finding a collision and a preimage."
      ]
    },
    {
      "cell_type": "code",
      "metadata": {
        "id": "INI07uFiS2U8",
        "colab_type": "code",
        "outputId": "e2d87755-1e0d-4a49-ff44-b3425c4cb07a",
        "colab": {
          "base_uri": "https://localhost:8080/",
          "height": 69
        }
      },
      "source": [
        "def find_preimage(n_times=1):\n",
        "  target = b\"\\x00\"*n_times\n",
        "  while True:\n",
        "    letters = string.printable\n",
        "    random_msg = (''.join(random.choice(letters) for i in range(10)))\n",
        "    output = H(n_times,random_msg)\n",
        "    if output==target:\n",
        "      return random_msg\n",
        "\n",
        "# time taken will increase exponentially\n",
        "if __name__ == '__main__':\n",
        "  print(timeit.timeit(\"find_preimage(1)\",setup=\"from __main__ import find_preimage\", number=1))\n",
        "  print(timeit.timeit(\"find_preimage(2)\",setup=\"from __main__ import find_preimage\", number=1))\n",
        "  print(timeit.timeit(\"find_preimage(3)\",setup=\"from __main__ import find_preimage\", number=1))\n",
        "  # print(timeit.timeit(\"find_preimage(4)\",setup=\"from __main__ import find_preimage\", number=1))\n",
        "  # print(timeit.timeit(\"find_preimage(5)\",setup=\"from __main__ import find_preimage\", number=1))"
      ],
      "execution_count": 0,
      "outputs": [
        {
          "output_type": "stream",
          "text": [
            "0.02450952200001666\n",
            "1.7927092999999559\n",
            "42.24560827799996\n"
          ],
          "name": "stdout"
        }
      ]
    },
    {
      "cell_type": "markdown",
      "metadata": {
        "id": "RU1LKtjPWkIk",
        "colab_type": "text"
      },
      "source": [
        "**Question 3**\n",
        "\n",
        "Generate key pairs for ECDSA and sign the string \"Blockchain Technology\" using this signature scheme with the generated key. Then verify the obtained signature.\n",
        "\n",
        "Note: the ecdsa package uses NIST192p as the default elliptic curve, but in real applications a longer/more secure curve should be considered."
      ]
    },
    {
      "cell_type": "code",
      "metadata": {
        "id": "_DUj5jUVWnFq",
        "colab_type": "code",
        "colab": {}
      },
      "source": [
        "from ecdsa import SigningKey\n",
        "\n",
        "msg = b\"Blockchain Technology\"\n",
        "sk = SigningKey.generate()\n",
        "signature = sk.sign(msg)\n",
        "vk = sk.verifying_key\n",
        "assert vk.verify(signature, msg)\n"
      ],
      "execution_count": 0,
      "outputs": []
    },
    {
      "cell_type": "markdown",
      "metadata": {
        "id": "gCY8T_IvaHOe",
        "colab_type": "text"
      },
      "source": [
        "**Question 4**\n",
        "\n",
        "Design and implement a Transaction class that includes the following fields\n",
        "\n",
        "- sender (a public key of sender)\n",
        "- receiver (a public key of receiver)\n",
        "- amount (transaction amount, an integer >0)\n",
        "- comment (arbitrary text, can be empty)\n",
        "- signature (sender's signature protecting the transaction)"
      ]
    },
    {
      "cell_type": "code",
      "metadata": {
        "id": "nuU1ZGkdjZq0",
        "colab_type": "code",
        "outputId": "9bb9bf6a-5a21-470d-a437-34c2d229ffbd",
        "colab": {
          "base_uri": "https://localhost:8080/",
          "height": 381
        }
      },
      "source": [
        "import json\n",
        "from ecdsa import SigningKey\n",
        "\n",
        "class Transaction:\n",
        "\n",
        "    def __init__(self, sender, receiver, amount, comment=''):\n",
        "        # Instantiates object from passed values\n",
        "       self.sender = sender # public key\n",
        "       self.receiver = receiver # public key\n",
        "       assert amount > 0\n",
        "       self.amount = amount\n",
        "       self.comment = comment\n",
        "       self.sign()\n",
        "\n",
        "\n",
        "    def to_json(self):\n",
        "        # Serializes object to JSON string\n",
        "        json_dict = self.__dict__\n",
        "        json_dict['sender'] = json_dict['sender'].to_string().hex()\n",
        "        json_dict['receiver'] = json_dict['receiver'].to_string().hex()\n",
        "        return json.dumps(json_dict)\n",
        "\n",
        "    @classmethod\n",
        "    def from_json(cls, json_str):\n",
        "        # Instantiates/Deserializes object from JSON string\n",
        "        trans = json.loads(json_str)\n",
        "        transaction = Transaction(SigningKey.from_string(trans['sender']),SigningKey.from_string(trans['receiver']), trans['amount'], trans['comment'])\n",
        "        return transaction\n",
        "\n",
        "    def transaction_to_string(self):\n",
        "      return str(self.sender.to_string()) + str(self.receiver.to_string()) + str(self.amount) + self.comment\n",
        "\n",
        "    def sign(self):\n",
        "        # Sign object with private key passed\n",
        "        # That can be called within new()\n",
        "        self.sender.sign(self.transaction_to_string().encode())\n",
        "\n",
        "    def validate(self, trans):\n",
        "        # Validate transaction correctness.\n",
        "        # Can be called within from_json()\n",
        "        sender_vk = self.sender.verifying_key\n",
        "        assert sender_vk.verify(self.sender.sign(trans.encode()),self.transaction_to_string().encode())\n",
        "        \n",
        "    def __str__(self):\n",
        "      return self.transaction_to_string()\n",
        "\n",
        "    def __eq__(self):\n",
        "        # Check whether transactions are the same\n",
        "        pass\n",
        "        \n",
        "\n",
        "sender = SigningKey.generate()\n",
        "\n",
        "receiver = SigningKey.generate()\n",
        "receiver_vk = receiver.verifying_key\n",
        "\n",
        "t1 = Transaction(sender, receiver, 100)\n",
        "t1_json = t1.to_json()\n",
        "t1_back = Transaction.from_json(t1_json)\n",
        "# print(t1_back)\n"
      ],
      "execution_count": 0,
      "outputs": [
        {
          "output_type": "error",
          "ename": "AssertionError",
          "evalue": "ignored",
          "traceback": [
            "\u001b[0;31m---------------------------------------------------------------------------\u001b[0m",
            "\u001b[0;31mAssertionError\u001b[0m                            Traceback (most recent call last)",
            "\u001b[0;32m<ipython-input-25-edb2348cf977>\u001b[0m in \u001b[0;36m<module>\u001b[0;34m()\u001b[0m\n\u001b[1;32m     57\u001b[0m \u001b[0mt1\u001b[0m \u001b[0;34m=\u001b[0m \u001b[0mTransaction\u001b[0m\u001b[0;34m(\u001b[0m\u001b[0msender\u001b[0m\u001b[0;34m,\u001b[0m \u001b[0mreceiver\u001b[0m\u001b[0;34m,\u001b[0m \u001b[0;36m100\u001b[0m\u001b[0;34m)\u001b[0m\u001b[0;34m\u001b[0m\u001b[0;34m\u001b[0m\u001b[0m\n\u001b[1;32m     58\u001b[0m \u001b[0mt1_json\u001b[0m \u001b[0;34m=\u001b[0m \u001b[0mt1\u001b[0m\u001b[0;34m.\u001b[0m\u001b[0mto_json\u001b[0m\u001b[0;34m(\u001b[0m\u001b[0;34m)\u001b[0m\u001b[0;34m\u001b[0m\u001b[0;34m\u001b[0m\u001b[0m\n\u001b[0;32m---> 59\u001b[0;31m \u001b[0mt1_back\u001b[0m \u001b[0;34m=\u001b[0m \u001b[0mTransaction\u001b[0m\u001b[0;34m.\u001b[0m\u001b[0mfrom_json\u001b[0m\u001b[0;34m(\u001b[0m\u001b[0mt1_json\u001b[0m\u001b[0;34m)\u001b[0m\u001b[0;34m\u001b[0m\u001b[0;34m\u001b[0m\u001b[0m\n\u001b[0m\u001b[1;32m     60\u001b[0m \u001b[0;31m# print(t1_back)\u001b[0m\u001b[0;34m\u001b[0m\u001b[0;34m\u001b[0m\u001b[0;34m\u001b[0m\u001b[0m\n",
            "\u001b[0;32m<ipython-input-25-edb2348cf977>\u001b[0m in \u001b[0;36mfrom_json\u001b[0;34m(cls, json_str)\u001b[0m\n\u001b[1;32m     25\u001b[0m         \u001b[0;31m# Instantiates/Deserializes object from JSON string\u001b[0m\u001b[0;34m\u001b[0m\u001b[0;34m\u001b[0m\u001b[0;34m\u001b[0m\u001b[0m\n\u001b[1;32m     26\u001b[0m         \u001b[0mtrans\u001b[0m \u001b[0;34m=\u001b[0m \u001b[0mjson\u001b[0m\u001b[0;34m.\u001b[0m\u001b[0mloads\u001b[0m\u001b[0;34m(\u001b[0m\u001b[0mjson_str\u001b[0m\u001b[0;34m)\u001b[0m\u001b[0;34m\u001b[0m\u001b[0;34m\u001b[0m\u001b[0m\n\u001b[0;32m---> 27\u001b[0;31m         \u001b[0mtransaction\u001b[0m \u001b[0;34m=\u001b[0m \u001b[0mTransaction\u001b[0m\u001b[0;34m(\u001b[0m\u001b[0mSigningKey\u001b[0m\u001b[0;34m.\u001b[0m\u001b[0mfrom_string\u001b[0m\u001b[0;34m(\u001b[0m\u001b[0mtrans\u001b[0m\u001b[0;34m[\u001b[0m\u001b[0;34m'sender'\u001b[0m\u001b[0;34m]\u001b[0m\u001b[0;34m)\u001b[0m\u001b[0;34m,\u001b[0m\u001b[0mSigningKey\u001b[0m\u001b[0;34m.\u001b[0m\u001b[0mfrom_string\u001b[0m\u001b[0;34m(\u001b[0m\u001b[0mtrans\u001b[0m\u001b[0;34m[\u001b[0m\u001b[0;34m'receiver'\u001b[0m\u001b[0;34m]\u001b[0m\u001b[0;34m)\u001b[0m\u001b[0;34m,\u001b[0m \u001b[0mtrans\u001b[0m\u001b[0;34m[\u001b[0m\u001b[0;34m'amount'\u001b[0m\u001b[0;34m]\u001b[0m\u001b[0;34m,\u001b[0m \u001b[0mtrans\u001b[0m\u001b[0;34m[\u001b[0m\u001b[0;34m'comment'\u001b[0m\u001b[0;34m]\u001b[0m\u001b[0;34m)\u001b[0m\u001b[0;34m\u001b[0m\u001b[0;34m\u001b[0m\u001b[0m\n\u001b[0m\u001b[1;32m     28\u001b[0m         \u001b[0;32mreturn\u001b[0m \u001b[0mtransaction\u001b[0m\u001b[0;34m\u001b[0m\u001b[0;34m\u001b[0m\u001b[0m\n\u001b[1;32m     29\u001b[0m \u001b[0;34m\u001b[0m\u001b[0m\n",
            "\u001b[0;32m/usr/local/lib/python3.6/dist-packages/ecdsa/keys.py\u001b[0m in \u001b[0;36mfrom_string\u001b[0;34m(klass, string, curve, hashfunc)\u001b[0m\n\u001b[1;32m    147\u001b[0m     \u001b[0;34m@\u001b[0m\u001b[0mclassmethod\u001b[0m\u001b[0;34m\u001b[0m\u001b[0;34m\u001b[0m\u001b[0m\n\u001b[1;32m    148\u001b[0m     \u001b[0;32mdef\u001b[0m \u001b[0mfrom_string\u001b[0m\u001b[0;34m(\u001b[0m\u001b[0mklass\u001b[0m\u001b[0;34m,\u001b[0m \u001b[0mstring\u001b[0m\u001b[0;34m,\u001b[0m \u001b[0mcurve\u001b[0m\u001b[0;34m=\u001b[0m\u001b[0mNIST192p\u001b[0m\u001b[0;34m,\u001b[0m \u001b[0mhashfunc\u001b[0m\u001b[0;34m=\u001b[0m\u001b[0msha1\u001b[0m\u001b[0;34m)\u001b[0m\u001b[0;34m:\u001b[0m\u001b[0;34m\u001b[0m\u001b[0;34m\u001b[0m\u001b[0m\n\u001b[0;32m--> 149\u001b[0;31m         \u001b[0;32massert\u001b[0m \u001b[0mlen\u001b[0m\u001b[0;34m(\u001b[0m\u001b[0mstring\u001b[0m\u001b[0;34m)\u001b[0m \u001b[0;34m==\u001b[0m \u001b[0mcurve\u001b[0m\u001b[0;34m.\u001b[0m\u001b[0mbaselen\u001b[0m\u001b[0;34m,\u001b[0m \u001b[0;34m(\u001b[0m\u001b[0mlen\u001b[0m\u001b[0;34m(\u001b[0m\u001b[0mstring\u001b[0m\u001b[0;34m)\u001b[0m\u001b[0;34m,\u001b[0m \u001b[0mcurve\u001b[0m\u001b[0;34m.\u001b[0m\u001b[0mbaselen\u001b[0m\u001b[0;34m)\u001b[0m\u001b[0;34m\u001b[0m\u001b[0;34m\u001b[0m\u001b[0m\n\u001b[0m\u001b[1;32m    150\u001b[0m         \u001b[0msecexp\u001b[0m \u001b[0;34m=\u001b[0m \u001b[0mstring_to_number\u001b[0m\u001b[0;34m(\u001b[0m\u001b[0mstring\u001b[0m\u001b[0;34m)\u001b[0m\u001b[0;34m\u001b[0m\u001b[0;34m\u001b[0m\u001b[0m\n\u001b[1;32m    151\u001b[0m         \u001b[0;32mreturn\u001b[0m \u001b[0mklass\u001b[0m\u001b[0;34m.\u001b[0m\u001b[0mfrom_secret_exponent\u001b[0m\u001b[0;34m(\u001b[0m\u001b[0msecexp\u001b[0m\u001b[0;34m,\u001b[0m \u001b[0mcurve\u001b[0m\u001b[0;34m,\u001b[0m \u001b[0mhashfunc\u001b[0m\u001b[0;34m)\u001b[0m\u001b[0;34m\u001b[0m\u001b[0;34m\u001b[0m\u001b[0m\n",
            "\u001b[0;31mAssertionError\u001b[0m: (48, 24)"
          ]
        }
      ]
    },
    {
      "cell_type": "markdown",
      "metadata": {
        "id": "hOkDFuUbkGbl",
        "colab_type": "text"
      },
      "source": [
        "- Do you think it makes sense to add any other fields?\n",
        "- What checks are you going to include within validate() ?\n",
        "- Do you see any challenges in implementing sign() and verify()?"
      ]
    },
    {
      "cell_type": "code",
      "metadata": {
        "id": "_vwiqF6mkFcB",
        "colab_type": "code",
        "outputId": "5b363221-f6bf-4940-817e-2784d20da634",
        "colab": {
          "base_uri": "https://localhost:8080/",
          "height": 258
        }
      },
      "source": [
        "import hashlib\n",
        "import math\n",
        "\n",
        "\n",
        "class MerkleTree:\n",
        "\n",
        "    def __init__(self,transactions=[]):\n",
        "        self.transactions = transactions\n",
        "        self.tree = []\n",
        "\n",
        "    def add(self,data):\n",
        "        # Add entries to tree\n",
        "        self.transactions.append(data)\n",
        "\n",
        "    def hash(self,*args):\n",
        "      m = hashlib.sha256() # 32 bytes\n",
        "      for arg in args:\n",
        "        if type(arg) != bytes:\n",
        "          arg = arg.encode()\n",
        "        m.update(arg) \n",
        "        \n",
        "      return m.digest()\n",
        "\n",
        "    def build(self):\n",
        "        # Build tree computing new root\n",
        "        num_levels = int(1 + math.ceil(math.log(len(self.transactions),2)))\n",
        "        print(f\"{num_levels}\")\n",
        "        levels = [[] for lvl in range(num_levels)]\n",
        "        for i,x in enumerate(self.transactions[::2]):\n",
        "           levels[0].append(self.hash(x,self.transactions[i+1]))\n",
        "        \n",
        "        for idx in range(num_levels-1):\n",
        "          for i,x in enumerate(levels[idx][::2]):\n",
        "            levels[idx+1].append(self.hash(x,levels[0][i+1]))\n",
        "\n",
        "        self.tree = [self.transactions] + levels\n",
        "        return self.tree\n",
        "\n",
        "\n",
        "    def get_proof(self,data):\n",
        "        '''\n",
        "        Get membership proof for entry\n",
        "        param: data\n",
        "        return: nodes required other than data to compute root\n",
        "        '''\n",
        "        if data not in self.transactions:\n",
        "          print(\"transaction does not exist in tree\")\n",
        "          return None\n",
        "\n",
        "        nodes = []\n",
        "        n1 = self.transactions.index(data) # returns index of data\n",
        "        for lvl in range(self.get_levels_in_tree()-1):\n",
        "          try:\n",
        "            if n1 % 2 == 0: # left node\n",
        "              n2 = self.tree[lvl+1][n1+1]\n",
        "            else: # right node\n",
        "              n2 = self.tree[lvl+1][n1-1]\n",
        "            nodes.append(n2)\n",
        "          except IndexError:\n",
        "            pass\n",
        "            # self.tree[lvl+2].append(n2)\n",
        "          finally:\n",
        "            n1 = n1//2\n",
        "\n",
        "        print(f\"\\nnumber of nodes: {len(nodes)}\")\n",
        "        return nodes\n",
        "        \n",
        "    def get_levels_in_tree(self):\n",
        "      return len(self.tree)\n",
        "\n",
        "    def get_root(self):\n",
        "        # Return the current root\n",
        "        return self.tree[-1][0]\n",
        "\n",
        "    def __str__(self):\n",
        "        pass\n",
        "        \n",
        "def verify_proof(entry, proof, root):\n",
        "    # Verify the proof for the entry and given root. Returns boolean.\n",
        "    pass\n",
        "\n",
        "mtree = MerkleTree(['tx1','t2','t3','tx4','tx5','tx6'])\n",
        "mtree.build()\n",
        "mtree.get_proof('t2')\n",
        "print(f'\\nroot: {mtree.get_root()}')"
      ],
      "execution_count": 14,
      "outputs": [
        {
          "output_type": "stream",
          "text": [
            "4\n"
          ],
          "name": "stdout"
        },
        {
          "output_type": "execute_result",
          "data": {
            "text/plain": [
              "[['tx1', 't2', 't3', 'tx4', 'tx5', 'tx6'],\n",
              " [b'?\\x9d\\x93\\xffz\\xfc\\xb8\\x04\\xdf\\xeem\\xbaW\\xebO\\xc5t=D@\\xda\\x0fL^\\xf9B\\x07\\xee\\xd3Nuq',\n",
              "  b'[U\\x1b\\x8bac\\xae\\xacV\\x80\\xa2b\\xe4\\xfc\\xb8\\x16P\\x82\\x97\\xa9\\xb3\\xdd\\x9f\\x90\\xc3\\xf7\\x882\\xd6v\\x97E',\n",
              "  b'D\\x90Z\\xaam\\xed\\x04Yk\\xc5?\\xd5\\xcc-\\xa1<\\xae\\xf0a\\xa2r\\xc5\\xcar\\xa0\\ta\\x95-]\\xc2\\xd4'],\n",
              " [b'\\xdf/\\xc1\\x89=\\x0fMwH\\xdd\\xfa\\xf6\\xc0\\xce\\x1cd\\x80\\xeb\\xa8a^Fbd_\\xf7\\xea\\xe1\\x96\\t\\xa0\\xa5',\n",
              "  b'\\xff\\xf9+|2\\xe2f\\xfaC\\x1e\\xae\\x19\\\\[\\x93\\xedx8\\x07\\x01;\\x87z\\xc5\\xd5Y\\xca\\x80/\\xa6\\x94\\x08'],\n",
              " [b':\\xa584\\xc9\\x19\\x998\\xacu\\x16(W6\\x82@\\xd4T\\xf9\\x1f\\xa9OL1\\xc6\\x12v\\xe6#\\xd2,v'],\n",
              " [b'\\xcd\\x08\\xc1\\xb62u\\x0e\\xfe\\x18\\xb1\\x90\\xf52\\x19\\x11\\xb7A%\\x1d\\xaaxq\\xca\\x90\\x1d\\xea\\xc9\\xfb\\x8f\\xdf@\\x9b']]"
            ]
          },
          "metadata": {
            "tags": []
          },
          "execution_count": 14
        },
        {
          "output_type": "stream",
          "text": [
            "\n",
            "number of nodes: 3\n"
          ],
          "name": "stdout"
        },
        {
          "output_type": "execute_result",
          "data": {
            "text/plain": [
              "[b'?\\x9d\\x93\\xffz\\xfc\\xb8\\x04\\xdf\\xeem\\xbaW\\xebO\\xc5t=D@\\xda\\x0fL^\\xf9B\\x07\\xee\\xd3Nuq',\n",
              " b'\\xff\\xf9+|2\\xe2f\\xfaC\\x1e\\xae\\x19\\\\[\\x93\\xedx8\\x07\\x01;\\x87z\\xc5\\xd5Y\\xca\\x80/\\xa6\\x94\\x08',\n",
              " b'\\xff\\xf9+|2\\xe2f\\xfaC\\x1e\\xae\\x19\\\\[\\x93\\xedx8\\x07\\x01;\\x87z\\xc5\\xd5Y\\xca\\x80/\\xa6\\x94\\x08']"
            ]
          },
          "metadata": {
            "tags": []
          },
          "execution_count": 14
        },
        {
          "output_type": "stream",
          "text": [
            "\n",
            "root: b'\\xcd\\x08\\xc1\\xb62u\\x0e\\xfe\\x18\\xb1\\x90\\xf52\\x19\\x11\\xb7A%\\x1d\\xaaxq\\xca\\x90\\x1d\\xea\\xc9\\xfb\\x8f\\xdf@\\x9b'\n"
          ],
          "name": "stdout"
        }
      ]
    },
    {
      "cell_type": "markdown",
      "metadata": {
        "id": "6PrZNVWW_IDo",
        "colab_type": "text"
      },
      "source": [
        "(Make sure you distinguish leaf nodes from non-leaf node.)\n",
        "\n",
        "Populate the tree with a random number (between 100-1000) of random transactions, compute a root, get proofs for 10 random entries and verify them."
      ]
    }
  ]
}